{
 "cells": [
  {
   "cell_type": "markdown",
   "id": "25d7736c-ba17-4aff-b6bb-66eba20fbf4e",
   "metadata": {},
   "source": [
    "# Lab | Error Handling"
   ]
  },
  {
   "cell_type": "markdown",
   "id": "bc99b386-7508-47a0-bcdb-d969deaf6c8b",
   "metadata": {
    "tags": []
   },
   "source": [
    "## Exercise: Error Handling for Managing Customer Orders\n",
    "\n",
    "The implementation of your code for managing customer orders assumes that the user will always enter a valid input. \n",
    "\n",
    "For example, we could modify the `initialize_inventory` function to include error handling.\n",
    "   - If the user enters an invalid quantity (e.g., a negative value or a non-numeric value), display an error message and ask them to re-enter the quantity for that product.\n",
    "   - Use a try-except block to handle the error and continue prompting the user until a valid quantity is entered.\n",
    "\n",
    "```python\n",
    "# Step 1: Define the function for initializing the inventory with error handling\n",
    "def initialize_inventory(products):\n",
    "    inventory = {}\n",
    "    for product in products:\n",
    "        valid_quantity = False\n",
    "        while not valid_quantity:\n",
    "            try:\n",
    "                quantity = int(input(f\"Enter the quantity of {product}s available: \"))\n",
    "                if quantity < 0:\n",
    "                    raise ValueError(\"Invalid quantity! Please enter a non-negative value.\")\n",
    "                valid_quantity = True\n",
    "            except ValueError as error:\n",
    "                print(f\"Error: {error}\")\n",
    "        inventory[product] = quantity\n",
    "    return inventory\n",
    "\n",
    "# Or, in another way:\n",
    "\n",
    "def initialize_inventory(products):\n",
    "    inventory = {}\n",
    "    for product in products:\n",
    "        valid_input = False\n",
    "        while not valid_input:\n",
    "            try:\n",
    "                quantity = int(input(f\"Enter the quantity of {product}s available: \"))\n",
    "                if quantity >= 0:\n",
    "                    inventory[product] = quantity\n",
    "                    valid_input = True\n",
    "                else:\n",
    "                    print(\"Quantity cannot be negative. Please enter a valid quantity.\")\n",
    "            except ValueError:\n",
    "                print(\"Invalid input. Please enter a valid quantity.\")\n",
    "    return inventory\n",
    "```\n",
    "\n",
    "Let's enhance your code by implementing error handling to handle invalid inputs.\n",
    "\n",
    "Follow the steps below to complete the exercise:\n",
    "\n",
    "2. Modify the `calculate_total_price` function to include error handling.\n",
    "   - If the user enters an invalid price (e.g., a negative value or a non-numeric value), display an error message and ask them to re-enter the price for that product.\n",
    "   - Use a try-except block to handle the error and continue prompting the user until a valid price is entered.\n",
    "\n",
    "3. Modify the `get_customer_orders` function to include error handling.\n",
    "   - If the user enters an invalid number of orders (e.g., a negative value or a non-numeric value), display an error message and ask them to re-enter the number of orders.\n",
    "   - If the user enters an invalid product name (e.g., a product name that is not in the inventory), or that doesn't have stock available, display an error message and ask them to re-enter the product name. *Hint: you will need to pass inventory as a parameter*\n",
    "   - Use a try-except block to handle the error and continue prompting the user until a valid product name is entered.\n",
    "\n",
    "4. Test your code by running the program and deliberately entering invalid quantities and product names. Make sure the error handling mechanism works as expected.\n"
   ]
  },
  {
   "cell_type": "code",
   "execution_count": null,
   "id": "ececd781-8973-4552-8bb9-d67141421dbc",
   "metadata": {},
   "outputs": [],
   "source": []
  },
  {
   "cell_type": "code",
   "execution_count": 32,
   "id": "98ef7cef-234b-4c39-9d48-1468ba5a406b",
   "metadata": {
    "tags": []
   },
   "outputs": [],
   "source": [
    "### Functions\n",
    "\n",
    "\n",
    "#Extra 1: Function that shows available products\n",
    "def available_prods(inventory):\n",
    "    \"\"\"\n",
    "    available_prods_list = []\n",
    "    for key,value in inventory.items():\n",
    "        if value != 0:\n",
    "            available_prods_list.append(key)\n",
    "    return available_prods_list\n",
    "    \"\"\"\n",
    "    available_prods_list = [key for key,value in inventory.items() if value != 0]\n",
    "\n",
    "    \n",
    "    return available_prods_list\n",
    "    \n",
    "    \n",
    "\n",
    "# 1. Define a function named `initialize_inventory` that takes `products` as a parameter. Inside the function, implement the code for initializing the inventory dictionary using a loop and user input.\n",
    "### If the user enters an invalid quantity (e.g., a negative value or a non-numeric value), display an error message and ask them to re-enter the quantity for that product.\n",
    "### Use a try-except block to handle the error and continue prompting the user until a valid quantity is entered\n",
    "def initialize_inventory(products):\n",
    "    \"\"\"\n",
    "    The function takes a product and initializes the inventory dictionary\n",
    "    \"\"\"\n",
    "    inventory = {}\n",
    "\n",
    "    for prod in products:\n",
    "        while True:\n",
    "            try:\n",
    "                #quantity = abs(int(input(f\"Add the quantity for product {prod}: \"))) --> Before I included abs() to handle negative input but this was not the task right\n",
    "                quantity = int(input(f\"Add the quantity for product {prod}: \"))\n",
    "                if quantity < 0:\n",
    "                    raise ValueError(\"Invalid quantity! Please enter a non-negative value.\")\n",
    "                \n",
    "                inventory[prod] = quantity\n",
    "                break\n",
    "                \n",
    "            except ValueError as error:\n",
    "                #print(f\"Error: {error}\")\n",
    "                print(\"This is not a valid input value! Please enter an integer!\")\n",
    "                \n",
    "            except: print(\"This is not a valid input value! Please enter an integer!\")\n",
    "            \n",
    "    return inventory\n",
    "\n",
    "    \n",
    "\n",
    "# 2. Define a function named `get_customer_orders` that takes no parameters. Inside the function, implement the code for prompting the user to enter the product names using a loop. The function should return the `customer_orders` set.--> Modification: customer_oders --> dictionary instead of set\n",
    "## Modify the function get_customer_orders so it prompts the user to enter the number of customer orders and gathers the product names using a loop and user input. Use comprehension.\n",
    "### Modify the get_customer_orders function to include error handling.\n",
    "#### If the user enters an invalid number of orders (e.g., a negative value or a non-numeric value), display an error message and ask them to re-enter the number of orders. -> possible no of order is differently implemented ---> error does not occur\n",
    "#### If the user enters an invalid product name (e.g., a product name that is not in the inventory), or that doesn't have stock available, display an error message and ask them to re-enter the product name. Hint: you will need to pass inventory as a parameter\n",
    "#### Use a try-except block to handle the error and continue prompting the user until a valid product name is entered.\n",
    "\n",
    "def get_customer_orders(inventory):\n",
    "    \"\"\"\n",
    "    Store customer orders\n",
    "    \"\"\"\n",
    "    available_prods_list = available_prods(inventory)\n",
    "    \n",
    "    print(\"You can by the following products: \", ' and '.join([str(elem) for i,elem in enumerate(available_prods_list)]))\n",
    "    \n",
    "    customer_orders = {}\n",
    "\n",
    "    basket =  [key for key in inventory if inventory[key] != 0]\n",
    "#print(basket)\n",
    "\n",
    "\n",
    "    user_decision = \"yes\"\n",
    "\n",
    "    prod_no = 1\n",
    "\n",
    "    while user_decision == \"yes\":\n",
    "        while True:\n",
    "            try:\n",
    "                purchase = input(f\"Add product {prod_no} to shopping card: \").lower()\n",
    "\n",
    "                if purchase not in basket:\n",
    "                    raise ValueError(\"Selected product is not available! Please select another item\")\n",
    "                break\n",
    "\n",
    "            except ValueError as error:\n",
    "                    print(f\"Error: {error}\")\n",
    "\n",
    "\n",
    "        if customer_orders.get(purchase, 'Not found') == 'Not found':\n",
    "            customer_orders[purchase] = 1\n",
    "            #print(customer_orders)\n",
    "        else:\n",
    "            customer_orders[purchase] += 1\n",
    "\n",
    "\n",
    "        # Update inventory\n",
    "        inventory = update_inventory(purchase, inventory)\n",
    "        basket = [key for key in inventory if inventory[key] != 0]\n",
    "\n",
    "\n",
    "        while (user_decision := input(\"Do you want to add another purchase (yes/no): \") or \"yes\").lower() not in [\"yes\", \"no\"]:\n",
    "            print(\"Please select Yes or No!\")\n",
    "\n",
    "\n",
    "        prod_no += 1\n",
    "        #customer_orders.add(purchase)\n",
    "\n",
    "    return customer_orders, inventory\n",
    "        \n",
    "       \n",
    "\n",
    "# 3. Add a new function to calculate the total price of the customer order. For each product in customer_orders, prompt the user to enter the price of that product. Use comprehension to calculate the total price. Note: assume that the user can only have 1 unit of each product.\n",
    "#### Print the total price of the customer order.\n",
    "### Modify the calculate_total_price function to include error handling.\n",
    "#### If the user enters an invalid price (e.g., a negative value or a non-numeric value), display an error message and ask them to re-enter the price for that product.\n",
    "#### Use a try-except block to handle the error and continue prompting the user until a valid price is entered.\n",
    "\n",
    "def calc_order_price (customer_orders:dict):\n",
    "    \"\"\"\n",
    "    calculate the total price of the customer order\n",
    "    \"\"\"\n",
    "    total_price = 0\n",
    "    \n",
    "    for key,value in customer_orders.items():\n",
    "        while True:\n",
    "            try:\n",
    "                # price = abs(float(input(f\"Add the price (€) for product {key}: \")))\n",
    "                price = float(input(f\"Add the price (€) for product {key}: \")) #--> Before I included abs() to handle negative input but this was not the task right\n",
    "                if price < 0:\n",
    "                    raise ValueError(\"Invalid quantity! Please enter a non-negative value.\")\n",
    "                total_price += (price*value)\n",
    "                \n",
    "                break\n",
    "            \n",
    "            except: print(\"This is not a valid input value! Please enter a number!\")\n",
    "    \n",
    "    print(f\"Total Price: {round(total_price,2)}\")\n",
    "\n",
    "\n",
    "\n",
    "    \n",
    "# 4. Define a function named `update_inventory` that takes `customer_orders` and `inventory` as parameters. Inside the function, implement the code for updating the inventory dictionary based on the customer orders. --> Modification: function arg: purchase instead of customer_orders\n",
    "### Modify the update_inventory function to remove the product from the inventory if its quantity becomes zero after fulfilling the customer orders. Use comprehension to filter out the products with a quantity of zero from the inventory.\n",
    "\n",
    "def update_inventory(purchase, inventory:dict):\n",
    "    \"\"\"\n",
    "    Update inventory\n",
    "    \"\"\"\n",
    "    inventory[purchase] -= 1\n",
    "    \n",
    "    \n",
    "    inventory = {key: val for key, val in inventory.items() if val != 0}\n",
    "    #print(\"Updated new inventory: \", inventory)\n",
    "\n",
    "    return inventory\n",
    "\n",
    "# 5. Define a function named `calculate_order_statistics` that takes `customer_orders` and `products` as parameters. Inside the function, implement the code for calculating the order statistics (total products ordered, and percentage of unique products ordered). The function should return these values. --> Modification: function arg: inventory instead of products list\n",
    "def calculate_order_statistics(customer_orders:dict, inventory:dict):\n",
    "    \"\"\"\n",
    "    `calculate_order_statistics` that takes `customer_orders` and `inventory` as parameters\n",
    "    \"\"\"\n",
    "    \n",
    "    total_available_products = sum(inventory.values())\n",
    "    #print(inventory)\n",
    "    #print(f\"Total products available: {total_available_products}\")\n",
    "    \n",
    "    total_products_ordered = sum(customer_orders.values())\n",
    "    percentage_ordered = round((total_products_ordered/total_available_products)*100, 2)\n",
    "\n",
    "    return total_products_ordered, percentage_ordered\n",
    "\n",
    "# 6. Define a function named `print_order_statistics` that takes `order_statistics` as a parameter. Inside the function, implement the code for printing the order statistics.\n",
    "def print_order_statistics(total_products_ordered:int, percentage_ordered:float):\n",
    "    \"\"\"\n",
    "    print_order_statistics\n",
    "    \"\"\"\n",
    "    \n",
    "    print(\"Order Statistics:\")\n",
    "    print(f\"Total Products ordered {total_products_ordered}\")\n",
    "    print(f\"Percentage of Products Ordered: {percentage_ordered}% \")\n",
    "\n",
    "# 7. Define a function named `print_updated_inventory` that takes `inventory` as a parameter. Inside the function, implement the code for printing the updated inventory.\n",
    "def print_updated_inventory(inventory:dict):\n",
    "    \"\"\"\n",
    "    Print updated inventory\n",
    "    \"\"\"\n",
    "    for key, value in inventory.items():\n",
    "        print(f\"The updated inventory contains {value} piece(s) of product {key}\")\n",
    "\n"
   ]
  },
  {
   "cell_type": "code",
   "execution_count": 48,
   "id": "3bcb4acc-fc15-4943-816f-937aa21f4d59",
   "metadata": {
    "tags": []
   },
   "outputs": [],
   "source": []
  },
  {
   "cell_type": "code",
   "execution_count": null,
   "id": "e94c437e-023c-437a-aa66-4f7c1c16b87e",
   "metadata": {},
   "outputs": [],
   "source": []
  },
  {
   "cell_type": "code",
   "execution_count": null,
   "id": "09529770-7d20-43da-b233-05e4d4777f91",
   "metadata": {},
   "outputs": [],
   "source": []
  },
  {
   "cell_type": "markdown",
   "id": "e008d131-2d46-4f58-8571-50183fd5578c",
   "metadata": {
    "tags": []
   },
   "source": [
    "# 7. Call the functions in the appropriate sequence to execute the program and manage customer orders.m"
   ]
  },
  {
   "cell_type": "code",
   "execution_count": 18,
   "id": "57a204da-e658-4963-bec3-79d81573ed3b",
   "metadata": {
    "tags": []
   },
   "outputs": [],
   "source": [
    "products = [\"t-shirt\", \"mug\", \"hat\", \"book\", \"keychain\"]\n"
   ]
  },
  {
   "cell_type": "code",
   "execution_count": 24,
   "id": "4a9a4035-07ad-4ec4-ae28-9f33a800a3a7",
   "metadata": {
    "tags": []
   },
   "outputs": [
    {
     "name": "stdin",
     "output_type": "stream",
     "text": [
      "Add the quantity for product t-shirt:  4\n",
      "Add the quantity for product mug:  3\n",
      "Add the quantity for product hat:  4\n",
      "Add the quantity for product book:  5\n",
      "Add the quantity for product keychain:  5\n"
     ]
    }
   ],
   "source": [
    "inventory = initialize_inventory(products)"
   ]
  },
  {
   "cell_type": "code",
   "execution_count": 25,
   "id": "5843e32c-e128-45e2-9856-59778aaa60ce",
   "metadata": {
    "tags": []
   },
   "outputs": [
    {
     "name": "stdout",
     "output_type": "stream",
     "text": [
      "You can by the following products:  t-shirt and mug and hat and book and keychain\n"
     ]
    },
    {
     "name": "stdin",
     "output_type": "stream",
     "text": [
      "Add product 1 to shopping card:  t-sjirt\n"
     ]
    },
    {
     "name": "stdout",
     "output_type": "stream",
     "text": [
      "Error: Selected product is not available! Please select another item\n"
     ]
    },
    {
     "name": "stdin",
     "output_type": "stream",
     "text": [
      "Add product 1 to shopping card:  t-shirt\n",
      "Do you want to add another purchase (yes/no):  yes\n",
      "Add product 2 to shopping card:  -1\n"
     ]
    },
    {
     "name": "stdout",
     "output_type": "stream",
     "text": [
      "Error: Selected product is not available! Please select another item\n"
     ]
    },
    {
     "name": "stdin",
     "output_type": "stream",
     "text": [
      "Add product 2 to shopping card:  mug\n",
      "Do you want to add another purchase (yes/no):  yes\n",
      "Add product 3 to shopping card:  mug\n",
      "Do you want to add another purchase (yes/no):  yes\n",
      "Add product 4 to shopping card:  mug\n",
      "Do you want to add another purchase (yes/no):  yes\n",
      "Add product 5 to shopping card:  mug\n"
     ]
    },
    {
     "name": "stdout",
     "output_type": "stream",
     "text": [
      "Error: Selected product is not available! Please select another item\n"
     ]
    },
    {
     "name": "stdin",
     "output_type": "stream",
     "text": [
      "Add product 5 to shopping card:  keychain\n",
      "Do you want to add another purchase (yes/no):  yes\n",
      "Add product 6 to shopping card:  book\n",
      "Do you want to add another purchase (yes/no):  no\n"
     ]
    }
   ],
   "source": [
    "customer_orders, inventory = get_customer_orders(inventory)"
   ]
  },
  {
   "cell_type": "code",
   "execution_count": 27,
   "id": "8d938bed-f08e-4432-be9c-768c4f043853",
   "metadata": {
    "tags": []
   },
   "outputs": [
    {
     "data": {
      "text/plain": [
       "({'t-shirt': 1, 'mug': 3, 'keychain': 1, 'book': 1},\n",
       " {'t-shirt': 3, 'hat': 4, 'book': 4, 'keychain': 4})"
      ]
     },
     "execution_count": 27,
     "metadata": {},
     "output_type": "execute_result"
    }
   ],
   "source": [
    "customer_orders, inventory"
   ]
  },
  {
   "cell_type": "code",
   "execution_count": 28,
   "id": "a3073dde-eca5-4356-8abc-4aacb8ffa300",
   "metadata": {
    "tags": []
   },
   "outputs": [
    {
     "data": {
      "text/plain": [
       "(6, 40.0)"
      ]
     },
     "execution_count": 28,
     "metadata": {},
     "output_type": "execute_result"
    }
   ],
   "source": [
    "total_products_ordered, percentage_ordered = calculate_order_statistics(customer_orders, inventory)\n",
    "total_products_ordered, percentage_ordered"
   ]
  },
  {
   "cell_type": "code",
   "execution_count": 29,
   "id": "58b4b4c7-bda2-4754-9f63-273154d381d7",
   "metadata": {
    "tags": []
   },
   "outputs": [
    {
     "name": "stdout",
     "output_type": "stream",
     "text": [
      "Order Statistics:\n",
      "Total Products ordered 6\n",
      "Percentage of Products Ordered: 40.0% \n"
     ]
    }
   ],
   "source": [
    "print_order_statistics(total_products_ordered, percentage_ordered)"
   ]
  },
  {
   "cell_type": "code",
   "execution_count": 30,
   "id": "5b4da47b-bd97-4ba6-a12b-205b712957ca",
   "metadata": {
    "tags": []
   },
   "outputs": [
    {
     "name": "stdout",
     "output_type": "stream",
     "text": [
      "The updated inventory contains 3 piece(s) of product t-shirt\n",
      "The updated inventory contains 4 piece(s) of product hat\n",
      "The updated inventory contains 4 piece(s) of product book\n",
      "The updated inventory contains 4 piece(s) of product keychain\n"
     ]
    }
   ],
   "source": [
    "print_updated_inventory(inventory)"
   ]
  },
  {
   "cell_type": "code",
   "execution_count": 33,
   "id": "e8d141c2-4ed2-4cb3-9476-50c881e9d902",
   "metadata": {
    "tags": []
   },
   "outputs": [
    {
     "name": "stdin",
     "output_type": "stream",
     "text": [
      "Add the price (€) for product t-shirt:  6\n",
      "Add the price (€) for product mug:  -6\n"
     ]
    },
    {
     "name": "stdout",
     "output_type": "stream",
     "text": [
      "This is not a valid input value! Please enter a number!\n"
     ]
    },
    {
     "name": "stdin",
     "output_type": "stream",
     "text": [
      "Add the price (€) for product mug:  0\n",
      "Add the price (€) for product keychain:  7\n",
      "Add the price (€) for product book:  7\n"
     ]
    },
    {
     "name": "stdout",
     "output_type": "stream",
     "text": [
      "Total Price: 20.0\n"
     ]
    }
   ],
   "source": [
    "calc_order_price(customer_orders)"
   ]
  },
  {
   "cell_type": "code",
   "execution_count": null,
   "id": "9935e2dc-1589-4756-a74d-41a33d76c408",
   "metadata": {},
   "outputs": [],
   "source": []
  }
 ],
 "metadata": {
  "kernelspec": {
   "display_name": "Python 3 (ipykernel)",
   "language": "python",
   "name": "python3"
  },
  "language_info": {
   "codemirror_mode": {
    "name": "ipython",
    "version": 3
   },
   "file_extension": ".py",
   "mimetype": "text/x-python",
   "name": "python",
   "nbconvert_exporter": "python",
   "pygments_lexer": "ipython3",
   "version": "3.11.5"
  }
 },
 "nbformat": 4,
 "nbformat_minor": 5
}
